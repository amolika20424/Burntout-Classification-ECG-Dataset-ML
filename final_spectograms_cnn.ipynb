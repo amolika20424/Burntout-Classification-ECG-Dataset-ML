{
  "cells": [
    {
      "cell_type": "code",
      "execution_count": null,
      "metadata": {
        "id": "J4r9X5XGLnV_"
      },
      "outputs": [],
      "source": [
        "import pandas as pd\n",
        "import scipy.signal\n",
        "import matplotlib.pyplot as plt\n",
        "import numpy as np\n",
        "import os\n",
        "import PIL as pil\n",
        "import numpy as np\n",
        "import cv2\n",
        "import sys\n",
        "from keras.layers import Flatten\n",
        "from keras.layers import Dense\n",
        "from keras.layers import Dropout\n",
        "from keras import optimizers\n",
        "from tensorflow import keras\n",
        "import PIL as pil\n",
        "import multiprocessing as mp\n",
        "import pickle\n",
        "from keras.applications import VGG16\n",
        "from tensorflow.keras.models import Model\n",
        "from tensorflow.keras.layers import Input\n",
        "from tensorflow.keras.applications.vgg16 import VGG16\n",
        "import tensorflow as tf"
      ]
    },
    {
      "cell_type": "code",
      "execution_count": null,
      "metadata": {
        "colab": {
          "base_uri": "https://localhost:8080/"
        },
        "id": "XwE9FVthqEwa",
        "outputId": "21613b2b-ee0b-4ae3-f9e7-19733f711a16"
      },
      "outputs": [
        {
          "output_type": "stream",
          "name": "stdout",
          "text": [
            "Mounted at /content/drive\n"
          ]
        }
      ],
      "source": [
        "from google.colab import drive\n",
        "drive.mount('/content/drive')"
      ]
    },
    {
      "cell_type": "code",
      "execution_count": null,
      "metadata": {
        "id": "JgJqgQfXUKaN"
      },
      "outputs": [],
      "source": [
        "class df_holder:\n",
        "    def __init__(self, df): \n",
        "        self.df = df\n",
        "\n",
        "lead_data = pd.read_pickle(\"/content/drive/MyDrive/ML_Project_Amo/class_dataset.pkl\")"
      ]
    },
    {
      "cell_type": "code",
      "execution_count": null,
      "metadata": {
        "id": "YFYrINKeM6Lb"
      },
      "outputs": [],
      "source": [
        "train_1 = lead_data.loc[:, ['V1', 'V1_df', 'V2', 'V2_df']]\n",
        "test = lead_data.loc[:, ['V3', 'V3_df']]\n",
        "a_df = pd.concat([train_1['V1'], train_1['V2']])\n",
        "b_df = pd.concat([train_1['V1_df'], train_1['V2_df']])"
      ]
    },
    {
      "cell_type": "code",
      "execution_count": null,
      "metadata": {
        "id": "MYGStRPlM--x"
      },
      "outputs": [],
      "source": [
        "# create new dataframe with concatenated columns\n",
        "train = pd.DataFrame({'target': a_df.values, 'df_holder': b_df.values})\n",
        "train\n",
        "test = test.rename(columns={'V3': 'target', 'V3_df': 'df_holder'})\n",
        "test\n",
        "X_train_, y_train = train['df_holder'].values, train['target'].values\n",
        "X_test_, y_test = test['df_holder'].values, test['target'].values"
      ]
    },
    {
      "cell_type": "code",
      "execution_count": null,
      "metadata": {
        "id": "U0GIhMopOG1A",
        "colab": {
          "base_uri": "https://localhost:8080/"
        },
        "outputId": "71f2e661-e51c-4926-cd02-0f9c7e635440"
      },
      "outputs": [
        {
          "output_type": "stream",
          "name": "stdout",
          "text": [
            "(202, 5000, 12)\n"
          ]
        }
      ],
      "source": [
        "import numpy as np\n",
        "X_test = np.zeros((202, 5000, 12))\n",
        "X_train = np.zeros((404, 5000, 12))\n",
        "print(X_test.shape)\n",
        "for i in range(len(X_test)):\n",
        "    X_test[i] = X_test_[i].df[1:5001].values.astype(float)\n",
        "for i in range(len(X_train)):\n",
        "    X_train[i] = X_train_[i].df[1:5001].values.astype(float)"
      ]
    },
    {
      "cell_type": "code",
      "source": [
        "print(train['target'].value_counts())"
      ],
      "metadata": {
        "colab": {
          "base_uri": "https://localhost:8080/"
        },
        "id": "-CE5ScV-WpfT",
        "outputId": "a9b5d473-fdd2-43ba-d683-f70e4d26a074"
      },
      "execution_count": null,
      "outputs": [
        {
          "output_type": "stream",
          "name": "stdout",
          "text": [
            "0    301\n",
            "1    103\n",
            "Name: target, dtype: int64\n"
          ]
        }
      ]
    },
    {
      "cell_type": "code",
      "source": [
        "# Separating classes\n",
        "from sklearn.utils import resample\n",
        "burntout = train[train['target'].values == 1]\n",
        "not_burntout = train[train['target'].values == 0]\n",
        "\n",
        "undersample = resample(burntout, \n",
        "                       replace=True, \n",
        "                       n_samples=len(not_burntout), #set the number of samples to equal the number of the minority class\n",
        "                       random_state=42)\n",
        "# Returning to new training set\n",
        "train_balanced = pd.concat([not_burntout, undersample])\n",
        "\n",
        "print(train_balanced['target'].value_counts())\n",
        "\n",
        "X_train_, y_train = train_balanced['df_holder'].values, train_balanced['target'].values\n",
        "\n",
        "import numpy as np\n",
        "X_test = np.zeros((202, 5000, 12))\n",
        "X_train = np.zeros((404, 5000, 12))\n",
        "print(X_test.shape)\n",
        "for i in range(len(X_test)):\n",
        "    X_test[i] = X_test_[i].df[1:5001].values.astype(float)\n",
        "for i in range(len(X_train)):\n",
        "    X_train[i] = X_train_[i].df[1:5001].values.astype(float)"
      ],
      "metadata": {
        "colab": {
          "base_uri": "https://localhost:8080/"
        },
        "id": "Zq4qruBnWxfD",
        "outputId": "c0979fb0-910c-4ba1-a225-cba51b59c27c"
      },
      "execution_count": null,
      "outputs": [
        {
          "output_type": "stream",
          "name": "stdout",
          "text": [
            "0    301\n",
            "1    301\n",
            "Name: target, dtype: int64\n",
            "(202, 5000, 12)\n"
          ]
        }
      ]
    },
    {
      "cell_type": "markdown",
      "source": [
        "# don't run from here"
      ],
      "metadata": {
        "id": "HIWk7oA_vDwn"
      }
    },
    {
      "cell_type": "code",
      "execution_count": null,
      "metadata": {
        "id": "Gv1kGU2UXSIh"
      },
      "outputs": [],
      "source": [
        "os.mkdir('drive/MyDrive/Spectrograms/train')\n",
        "for j in range(len(X_train)):\n",
        "  os.mkdir(f'drive/MyDrive/Spectrograms/train/Participant{j+1}')\n",
        "  for i in range(12):\n",
        "    data = pd.DataFrame(X_train[j])\n",
        "    data = data.iloc[:,i]\n",
        "    # plt.figure()\n",
        "    plt.specgram(data)\n",
        "    # plt.show()\n",
        "    plt.savefig(f'drive/MyDrive/Spectrograms/train/Participant{j+1}/lead{i+1}.png')"
      ]
    },
    {
      "cell_type": "code",
      "execution_count": null,
      "metadata": {
        "id": "czMjuEO5X9uF"
      },
      "outputs": [],
      "source": [
        "os.mkdir('drive/MyDrive/Spectrograms/test')\n",
        "for j in range(len(X_test)):\n",
        "  os.mkdir(f'drive/MyDrive/Spectrograms/test/Participant{j+1}')\n",
        "  for i in range(12):\n",
        "    data = pd.DataFrame(X_train[j])\n",
        "    data = data.iloc[:,i]\n",
        "    # plt.figure()\n",
        "    plt.specgram(data)\n",
        "    # plt.show()\n",
        "    plt.savefig(f'drive/MyDrive/Spectrograms/test/Participant{j+1}/lead{i+1}.png')"
      ]
    },
    {
      "cell_type": "markdown",
      "source": [
        "## run from here"
      ],
      "metadata": {
        "id": "QfNeIJW76Zg4"
      }
    },
    {
      "cell_type": "code",
      "source": [
        "train_path = os.listdir(\"/content/drive/MyDrive/Spectrograms/train\")\n",
        "test_path = os.listdir(\"/content/drive/MyDrive/Spectrograms/test\")"
      ],
      "metadata": {
        "id": "Bl-4oqeCdPLa"
      },
      "execution_count": null,
      "outputs": []
    },
    {
      "cell_type": "code",
      "source": [
        "def process_image(path):\n",
        "  img = pil.Image.open(path)\n",
        "  img = img.resize((224,224))\n",
        "  img = img.convert('RGB')\n",
        "  data = np.asarray(img)\n",
        "  return data"
      ],
      "metadata": {
        "id": "_KKzA4DKLNGA"
      },
      "execution_count": null,
      "outputs": []
    },
    {
      "cell_type": "code",
      "source": [
        "train_data = []\n",
        "for i in train_path:\n",
        "  print(i)\n",
        "  participant_path = os.listdir(\"/content/drive/MyDrive/Spectrograms/train/\"+i)\n",
        "  input_vector = []\n",
        "  with mp.Pool(processes=8) as pool:\n",
        "    input_paths = [f\"/content/drive/MyDrive/Spectrograms/train/{i}/{j}\" for j in participant_path]\n",
        "    input_vector = pool.map(process_image, input_paths)\n",
        "  array = np.array(input_vector)\n",
        "  train_data.append(array)\n",
        "\n",
        "train_data = np.array(train_data)"
      ],
      "metadata": {
        "colab": {
          "base_uri": "https://localhost:8080/"
        },
        "id": "N9tK2Gi9-GLa",
        "outputId": "275dc899-bc62-4a7f-a09d-d03dbb7333e4"
      },
      "execution_count": null,
      "outputs": [
        {
          "output_type": "stream",
          "name": "stdout",
          "text": [
            "Participant1\n",
            "Participant2\n",
            "Participant3\n",
            "Participant4\n",
            "Participant5\n",
            "Participant6\n",
            "Participant7\n",
            "Participant8\n",
            "Participant9\n",
            "Participant10\n",
            "Participant11\n",
            "Participant12\n",
            "Participant13\n",
            "Participant14\n",
            "Participant15\n",
            "Participant16\n",
            "Participant17\n",
            "Participant18\n",
            "Participant19\n",
            "Participant20\n",
            "Participant21\n",
            "Participant22\n",
            "Participant23\n",
            "Participant24\n",
            "Participant25\n",
            "Participant26\n",
            "Participant27\n",
            "Participant28\n",
            "Participant29\n",
            "Participant30\n",
            "Participant31\n",
            "Participant32\n",
            "Participant33\n",
            "Participant34\n",
            "Participant35\n",
            "Participant36\n",
            "Participant37\n",
            "Participant38\n",
            "Participant39\n",
            "Participant40\n",
            "Participant41\n",
            "Participant42\n",
            "Participant43\n",
            "Participant44\n",
            "Participant45\n",
            "Participant46\n",
            "Participant47\n",
            "Participant48\n",
            "Participant49\n",
            "Participant50\n",
            "Participant51\n",
            "Participant52\n",
            "Participant53\n",
            "Participant54\n",
            "Participant55\n",
            "Participant56\n",
            "Participant57\n",
            "Participant58\n",
            "Participant59\n",
            "Participant60\n",
            "Participant61\n",
            "Participant62\n",
            "Participant63\n",
            "Participant64\n",
            "Participant65\n",
            "Participant66\n",
            "Participant67\n",
            "Participant68\n",
            "Participant69\n",
            "Participant70\n",
            "Participant71\n",
            "Participant72\n",
            "Participant73\n",
            "Participant74\n",
            "Participant75\n",
            "Participant76\n",
            "Participant77\n",
            "Participant78\n",
            "Participant79\n",
            "Participant80\n",
            "Participant81\n",
            "Participant82\n",
            "Participant83\n",
            "Participant84\n",
            "Participant85\n",
            "Participant86\n",
            "Participant87\n",
            "Participant88\n",
            "Participant89\n",
            "Participant90\n",
            "Participant91\n",
            "Participant92\n",
            "Participant93\n",
            "Participant94\n",
            "Participant95\n",
            "Participant96\n",
            "Participant97\n",
            "Participant98\n",
            "Participant99\n",
            "Participant100\n",
            "Participant101\n",
            "Participant102\n",
            "Participant103\n",
            "Participant104\n",
            "Participant105\n",
            "Participant106\n",
            "Participant107\n",
            "Participant108\n",
            "Participant109\n",
            "Participant110\n",
            "Participant111\n",
            "Participant112\n",
            "Participant113\n",
            "Participant114\n",
            "Participant115\n",
            "Participant116\n",
            "Participant117\n",
            "Participant118\n",
            "Participant119\n",
            "Participant120\n",
            "Participant121\n",
            "Participant122\n",
            "Participant123\n",
            "Participant124\n",
            "Participant125\n",
            "Participant126\n",
            "Participant127\n",
            "Participant128\n",
            "Participant129\n",
            "Participant130\n",
            "Participant131\n",
            "Participant132\n",
            "Participant133\n",
            "Participant134\n",
            "Participant135\n",
            "Participant136\n",
            "Participant137\n",
            "Participant138\n",
            "Participant139\n",
            "Participant140\n",
            "Participant141\n",
            "Participant142\n",
            "Participant143\n",
            "Participant144\n",
            "Participant145\n",
            "Participant146\n",
            "Participant147\n",
            "Participant148\n",
            "Participant149\n",
            "Participant150\n",
            "Participant151\n",
            "Participant152\n",
            "Participant153\n",
            "Participant154\n",
            "Participant155\n",
            "Participant156\n",
            "Participant157\n",
            "Participant158\n",
            "Participant159\n",
            "Participant160\n",
            "Participant161\n",
            "Participant162\n",
            "Participant163\n",
            "Participant164\n",
            "Participant165\n",
            "Participant166\n",
            "Participant167\n",
            "Participant168\n",
            "Participant169\n",
            "Participant170\n",
            "Participant171\n",
            "Participant172\n",
            "Participant173\n",
            "Participant174\n",
            "Participant175\n",
            "Participant176\n",
            "Participant177\n",
            "Participant178\n",
            "Participant179\n",
            "Participant180\n",
            "Participant181\n",
            "Participant182\n",
            "Participant183\n",
            "Participant184\n",
            "Participant185\n",
            "Participant186\n",
            "Participant187\n",
            "Participant188\n",
            "Participant189\n",
            "Participant190\n",
            "Participant191\n",
            "Participant192\n",
            "Participant193\n",
            "Participant194\n",
            "Participant195\n",
            "Participant196\n",
            "Participant197\n",
            "Participant198\n",
            "Participant199\n",
            "Participant200\n",
            "Participant201\n",
            "Participant202\n",
            "Participant203\n",
            "Participant204\n",
            "Participant205\n",
            "Participant206\n",
            "Participant207\n",
            "Participant208\n",
            "Participant209\n",
            "Participant210\n",
            "Participant211\n",
            "Participant212\n",
            "Participant213\n",
            "Participant214\n",
            "Participant215\n",
            "Participant216\n",
            "Participant217\n",
            "Participant218\n",
            "Participant219\n",
            "Participant220\n",
            "Participant221\n",
            "Participant222\n",
            "Participant223\n",
            "Participant224\n",
            "Participant225\n",
            "Participant226\n",
            "Participant227\n",
            "Participant228\n",
            "Participant229\n",
            "Participant230\n",
            "Participant231\n",
            "Participant232\n",
            "Participant233\n",
            "Participant234\n",
            "Participant235\n",
            "Participant236\n",
            "Participant237\n",
            "Participant238\n",
            "Participant239\n",
            "Participant240\n",
            "Participant241\n",
            "Participant242\n",
            "Participant243\n",
            "Participant244\n",
            "Participant245\n",
            "Participant246\n",
            "Participant247\n",
            "Participant248\n",
            "Participant249\n",
            "Participant250\n",
            "Participant251\n",
            "Participant252\n",
            "Participant253\n",
            "Participant254\n",
            "Participant255\n",
            "Participant256\n",
            "Participant257\n",
            "Participant258\n",
            "Participant259\n",
            "Participant260\n",
            "Participant261\n",
            "Participant262\n",
            "Participant263\n",
            "Participant264\n",
            "Participant265\n",
            "Participant266\n",
            "Participant267\n",
            "Participant268\n",
            "Participant269\n",
            "Participant270\n",
            "Participant271\n",
            "Participant272\n",
            "Participant273\n",
            "Participant274\n",
            "Participant275\n",
            "Participant276\n",
            "Participant277\n",
            "Participant278\n",
            "Participant279\n",
            "Participant280\n",
            "Participant281\n",
            "Participant282\n",
            "Participant283\n",
            "Participant284\n",
            "Participant285\n",
            "Participant286\n",
            "Participant287\n",
            "Participant288\n",
            "Participant289\n",
            "Participant290\n",
            "Participant291\n",
            "Participant292\n",
            "Participant293\n",
            "Participant294\n",
            "Participant295\n",
            "Participant296\n",
            "Participant297\n",
            "Participant298\n",
            "Participant299\n",
            "Participant300\n",
            "Participant301\n",
            "Participant302\n",
            "Participant303\n",
            "Participant304\n",
            "Participant305\n",
            "Participant306\n",
            "Participant307\n",
            "Participant308\n",
            "Participant309\n",
            "Participant310\n",
            "Participant311\n",
            "Participant312\n",
            "Participant313\n",
            "Participant314\n",
            "Participant315\n",
            "Participant316\n",
            "Participant317\n",
            "Participant318\n",
            "Participant319\n",
            "Participant320\n",
            "Participant321\n",
            "Participant322\n",
            "Participant323\n",
            "Participant324\n",
            "Participant325\n",
            "Participant326\n",
            "Participant327\n",
            "Participant328\n",
            "Participant329\n",
            "Participant330\n",
            "Participant331\n",
            "Participant332\n",
            "Participant333\n",
            "Participant334\n",
            "Participant335\n",
            "Participant336\n",
            "Participant337\n",
            "Participant338\n",
            "Participant339\n",
            "Participant340\n",
            "Participant341\n",
            "Participant342\n",
            "Participant343\n",
            "Participant344\n",
            "Participant345\n",
            "Participant346\n",
            "Participant347\n",
            "Participant348\n",
            "Participant349\n",
            "Participant350\n",
            "Participant351\n",
            "Participant352\n",
            "Participant353\n",
            "Participant354\n",
            "Participant355\n",
            "Participant356\n",
            "Participant357\n",
            "Participant358\n",
            "Participant359\n",
            "Participant360\n",
            "Participant361\n",
            "Participant362\n",
            "Participant363\n",
            "Participant364\n",
            "Participant365\n",
            "Participant366\n",
            "Participant367\n",
            "Participant368\n",
            "Participant369\n",
            "Participant370\n",
            "Participant371\n",
            "Participant372\n",
            "Participant373\n",
            "Participant374\n",
            "Participant375\n",
            "Participant376\n",
            "Participant377\n",
            "Participant378\n",
            "Participant379\n",
            "Participant380\n",
            "Participant381\n",
            "Participant382\n",
            "Participant383\n",
            "Participant384\n",
            "Participant385\n",
            "Participant386\n",
            "Participant387\n",
            "Participant388\n",
            "Participant389\n",
            "Participant390\n",
            "Participant391\n",
            "Participant392\n",
            "Participant393\n",
            "Participant394\n",
            "Participant395\n",
            "Participant396\n",
            "Participant397\n",
            "Participant398\n",
            "Participant399\n",
            "Participant400\n",
            "Participant401\n",
            "Participant402\n",
            "Participant403\n",
            "Participant404\n"
          ]
        }
      ]
    },
    {
      "cell_type": "code",
      "source": [
        "test_data = []\n",
        "for i in test_path:\n",
        "  print(i)\n",
        "  participant_path = os.listdir(\"/content/drive/MyDrive/Spectrograms/test/\"+i)\n",
        "  input_vector = []\n",
        "  with mp.Pool(processes=8) as pool:\n",
        "    input_paths = [f\"/content/drive/MyDrive/Spectrograms/test/{i}/{j}\" for j in participant_path]\n",
        "    input_vector = pool.map(process_image, input_paths)\n",
        "  array = np.array(input_vector)\n",
        "  test_data.append(array)\n",
        "\n",
        "test_data = np.array(test_data)"
      ],
      "metadata": {
        "colab": {
          "base_uri": "https://localhost:8080/"
        },
        "id": "ESpg9uWLm5lw",
        "outputId": "3f6311db-72ff-4d0a-ecd5-820f0e72d8cc"
      },
      "execution_count": null,
      "outputs": [
        {
          "output_type": "stream",
          "name": "stdout",
          "text": [
            "Participant1\n",
            "Participant2\n",
            "Participant3\n",
            "Participant4\n",
            "Participant5\n",
            "Participant6\n",
            "Participant7\n",
            "Participant8\n",
            "Participant9\n",
            "Participant10\n",
            "Participant11\n",
            "Participant12\n",
            "Participant13\n",
            "Participant14\n",
            "Participant15\n",
            "Participant16\n",
            "Participant17\n",
            "Participant18\n",
            "Participant19\n",
            "Participant20\n",
            "Participant21\n",
            "Participant22\n",
            "Participant23\n",
            "Participant24\n",
            "Participant25\n",
            "Participant26\n",
            "Participant27\n",
            "Participant28\n",
            "Participant29\n",
            "Participant30\n",
            "Participant31\n",
            "Participant32\n",
            "Participant33\n",
            "Participant34\n",
            "Participant35\n",
            "Participant36\n",
            "Participant37\n",
            "Participant38\n",
            "Participant39\n",
            "Participant40\n",
            "Participant41\n",
            "Participant42\n",
            "Participant43\n",
            "Participant44\n",
            "Participant45\n",
            "Participant46\n",
            "Participant47\n",
            "Participant48\n",
            "Participant49\n",
            "Participant50\n",
            "Participant51\n",
            "Participant52\n",
            "Participant53\n",
            "Participant54\n",
            "Participant55\n",
            "Participant56\n",
            "Participant57\n",
            "Participant58\n",
            "Participant59\n",
            "Participant60\n",
            "Participant61\n",
            "Participant62\n",
            "Participant63\n",
            "Participant64\n",
            "Participant65\n",
            "Participant66\n",
            "Participant67\n",
            "Participant68\n",
            "Participant69\n",
            "Participant70\n",
            "Participant71\n",
            "Participant72\n",
            "Participant73\n",
            "Participant74\n",
            "Participant75\n",
            "Participant76\n",
            "Participant77\n",
            "Participant78\n",
            "Participant79\n",
            "Participant80\n",
            "Participant81\n",
            "Participant82\n",
            "Participant83\n",
            "Participant84\n",
            "Participant85\n",
            "Participant86\n",
            "Participant87\n",
            "Participant88\n",
            "Participant89\n",
            "Participant90\n",
            "Participant91\n",
            "Participant92\n",
            "Participant93\n",
            "Participant94\n",
            "Participant95\n",
            "Participant96\n",
            "Participant97\n",
            "Participant98\n",
            "Participant99\n",
            "Participant100\n",
            "Participant101\n",
            "Participant102\n",
            "Participant103\n",
            "Participant104\n",
            "Participant105\n",
            "Participant106\n",
            "Participant107\n",
            "Participant108\n",
            "Participant109\n",
            "Participant110\n",
            "Participant111\n",
            "Participant112\n",
            "Participant113\n",
            "Participant114\n",
            "Participant115\n",
            "Participant116\n",
            "Participant117\n",
            "Participant118\n",
            "Participant119\n",
            "Participant120\n",
            "Participant121\n",
            "Participant122\n",
            "Participant123\n",
            "Participant124\n",
            "Participant125\n",
            "Participant126\n",
            "Participant127\n",
            "Participant128\n",
            "Participant129\n",
            "Participant130\n",
            "Participant131\n",
            "Participant132\n",
            "Participant133\n",
            "Participant134\n",
            "Participant135\n",
            "Participant136\n",
            "Participant137\n",
            "Participant138\n",
            "Participant139\n",
            "Participant140\n",
            "Participant141\n",
            "Participant142\n",
            "Participant143\n",
            "Participant144\n",
            "Participant145\n",
            "Participant146\n",
            "Participant147\n",
            "Participant148\n",
            "Participant149\n",
            "Participant150\n",
            "Participant151\n",
            "Participant152\n",
            "Participant153\n",
            "Participant154\n",
            "Participant155\n",
            "Participant156\n",
            "Participant157\n",
            "Participant158\n",
            "Participant159\n",
            "Participant160\n",
            "Participant161\n",
            "Participant162\n",
            "Participant163\n",
            "Participant164\n",
            "Participant165\n",
            "Participant166\n",
            "Participant167\n",
            "Participant168\n",
            "Participant169\n",
            "Participant170\n",
            "Participant171\n",
            "Participant172\n",
            "Participant173\n",
            "Participant174\n",
            "Participant175\n",
            "Participant176\n",
            "Participant177\n",
            "Participant178\n",
            "Participant179\n",
            "Participant180\n",
            "Participant181\n",
            "Participant182\n",
            "Participant183\n",
            "Participant184\n",
            "Participant185\n",
            "Participant186\n",
            "Participant187\n",
            "Participant188\n",
            "Participant189\n",
            "Participant190\n",
            "Participant191\n",
            "Participant192\n",
            "Participant193\n",
            "Participant194\n",
            "Participant195\n",
            "Participant196\n",
            "Participant197\n",
            "Participant198\n",
            "Participant199\n",
            "Participant200\n",
            "Participant201\n",
            "Participant202\n"
          ]
        }
      ]
    },
    {
      "cell_type": "code",
      "source": [
        "file_name_test = \"/content/drive/MyDrive/Spectrograms/test_set\"\n",
        "file_name_train = \"/content/drive/MyDrive/Spectrograms/train_set\"\n",
        "\n",
        "train_set = train_data\n",
        "\n",
        "with open(file_name_train, 'wb') as f:\n",
        "  pickle.dump(train_data,f)\n",
        "\n",
        "test_set = test_data\n",
        "\n",
        "with open(file_name_test, 'wb') as f:\n",
        "  pickle.dump(test_data,f)"
      ],
      "metadata": {
        "id": "4IiMj4TSm-Ph"
      },
      "execution_count": null,
      "outputs": []
    },
    {
      "cell_type": "code",
      "source": [
        "new_y_train = []\n",
        "for i in range(len(y_train)):\n",
        "  temp = [y_train[i]]*12\n",
        "  new_y_train.append(temp)\n",
        "\n",
        "y_train = np.array(new_y_train)"
      ],
      "metadata": {
        "id": "dNjcvAfVMVxU"
      },
      "execution_count": null,
      "outputs": []
    },
    {
      "cell_type": "code",
      "source": [
        "len(y_train)\n",
        "y_train = y_train.flatten()\n",
        "len(y_train)"
      ],
      "metadata": {
        "colab": {
          "base_uri": "https://localhost:8080/"
        },
        "id": "_33c3fGjVfAu",
        "outputId": "56cd9048-e4ef-42ed-9d90-f4a7495596c5"
      },
      "execution_count": null,
      "outputs": [
        {
          "output_type": "execute_result",
          "data": {
            "text/plain": [
              "4848"
            ]
          },
          "metadata": {},
          "execution_count": 13
        }
      ]
    },
    {
      "cell_type": "code",
      "source": [],
      "metadata": {
        "id": "5uSjcS8KvHrh"
      },
      "execution_count": null,
      "outputs": []
    },
    {
      "cell_type": "code",
      "source": [],
      "metadata": {
        "id": "anjydOZyvHwZ"
      },
      "execution_count": null,
      "outputs": []
    },
    {
      "cell_type": "code",
      "source": [
        "new_y_test = []\n",
        "for i in range(len(y_test)):\n",
        "  temp = [y_test[i]]*12\n",
        "  new_y_test.append(temp)\n",
        "\n",
        "y_test = np.array(new_y_test)"
      ],
      "metadata": {
        "id": "ARGioqthM_s4"
      },
      "execution_count": null,
      "outputs": []
    },
    {
      "cell_type": "code",
      "source": [
        "with open('/content/drive/MyDrive/Spectrograms/train_set', 'rb') as f:\n",
        "    train_data = pickle.load(f)\n",
        "\n",
        "with open('/content/drive/MyDrive/Spectrograms/test_set', 'rb') as f:\n",
        "    test_data = pickle.load(f)"
      ],
      "metadata": {
        "id": "sSpvsW5eOgzD"
      },
      "execution_count": null,
      "outputs": []
    },
    {
      "cell_type": "code",
      "source": [
        "X_train = []\n",
        "\n",
        "for i in range(len(train_data)):\n",
        "  for j in range(len(train_data[0])):\n",
        "    X_train.append(train_data[i][j])\n",
        "\n",
        "len(X_train)\n",
        "X_train = np.array(X_train)\n",
        "# X_test, y_test = test_set"
      ],
      "metadata": {
        "id": "fdl3tNTQPMnR"
      },
      "execution_count": null,
      "outputs": []
    },
    {
      "cell_type": "code",
      "source": [
        "vgg_model = VGG16(weights='imagenet',include_top=False, input_shape=(224, 224, 3))"
      ],
      "metadata": {
        "id": "6WWvqI7j63Tr",
        "colab": {
          "base_uri": "https://localhost:8080/"
        },
        "outputId": "aaf780f7-fc66-4c2f-e176-476a7b3e01cd"
      },
      "execution_count": null,
      "outputs": [
        {
          "output_type": "stream",
          "name": "stdout",
          "text": [
            "Downloading data from https://storage.googleapis.com/tensorflow/keras-applications/vgg16/vgg16_weights_tf_dim_ordering_tf_kernels_notop.h5\n",
            "58889256/58889256 [==============================] - 1s 0us/step\n"
          ]
        }
      ]
    },
    {
      "cell_type": "code",
      "source": [
        "input_shape = (12, 224, 224, 3)\n",
        "input_tensor = Input(shape=input_shape)\n",
        "\n",
        "# Reshape input tensor to have the correct shape\n",
        "# x = tf.reshape(input_tensor, [-1, input_shape[1], input_shape[2], input_shape[3]])\n",
        "\n",
        "\n",
        "input_tensor = Input(shape=(224, 224, 3))\n",
        "vgg_model = VGG16(weights='imagenet', include_top=False, input_tensor=input_tensor)\n",
        "\n",
        "# Add your own layers on top of the VGG16 model here\n",
        "# ...\n",
        "\n",
        "# model = Model(inputs=input_tensor, outputs=...)\n"
      ],
      "metadata": {
        "id": "VbflajX2IDog"
      },
      "execution_count": null,
      "outputs": []
    },
    {
      "cell_type": "code",
      "source": [
        "for layer in vgg_model.layers:\n",
        "  layer.trainable = False\n",
        "# Make sure you have frozen the correct layers\n",
        "for i, layer in enumerate(vgg_model.layers):\n",
        "    print(i, layer.name, layer.trainable)\n"
      ],
      "metadata": {
        "colab": {
          "base_uri": "https://localhost:8080/"
        },
        "id": "zqa6qvPp65rT",
        "outputId": "91cd9a70-4b25-4c98-edf8-e19bd0c44943"
      },
      "execution_count": null,
      "outputs": [
        {
          "output_type": "stream",
          "name": "stdout",
          "text": [
            "0 input_3 False\n",
            "1 block1_conv1 False\n",
            "2 block1_conv2 False\n",
            "3 block1_pool False\n",
            "4 block2_conv1 False\n",
            "5 block2_conv2 False\n",
            "6 block2_pool False\n",
            "7 block3_conv1 False\n",
            "8 block3_conv2 False\n",
            "9 block3_conv3 False\n",
            "10 block3_pool False\n",
            "11 block4_conv1 False\n",
            "12 block4_conv2 False\n",
            "13 block4_conv3 False\n",
            "14 block4_pool False\n",
            "15 block5_conv1 False\n",
            "16 block5_conv2 False\n",
            "17 block5_conv3 False\n",
            "18 block5_pool False\n"
          ]
        }
      ]
    },
    {
      "cell_type": "code",
      "source": [
        "x = vgg_model.output\n",
        "x = Flatten()(x) # Flatten dimensions to for use in FC layers\n",
        "x = Dense(512, activation='relu')(x)\n",
        "x = Dropout(0.5)(x) # Dropout layer to reduce overfitting\n",
        "x = Dense(256, activation='relu')(x)\n",
        "# logits = Dense(12, activation='sigmoid')(x)\n",
        "x = Dense(1, activation='sigmoid')(x) # Softmax for multiclass\n",
        "transfer_model = keras.Model(inputs=vgg_model.input, outputs=x)"
      ],
      "metadata": {
        "id": "P6wsOy1y7IFM"
      },
      "execution_count": null,
      "outputs": []
    },
    {
      "cell_type": "code",
      "source": [
        "learning_rate= 5e-5\n",
        "\n",
        "transfer_model.compile(loss=\"binary_crossentropy\",optimizer=optimizers.Adam(lr=learning_rate), metrics=[\"accuracy\"])\n",
        "history = transfer_model.fit(X_train, y_train, batch_size = 12, epochs=30)"
      ],
      "metadata": {
        "colab": {
          "base_uri": "https://localhost:8080/"
        },
        "id": "KCuOMCKkl1ws",
        "outputId": "f72082fa-22d1-464d-fe25-2bd566604f07"
      },
      "execution_count": null,
      "outputs": [
        {
          "output_type": "stream",
          "name": "stderr",
          "text": [
            "/usr/local/lib/python3.10/dist-packages/keras/optimizers/legacy/adam.py:117: UserWarning: The `lr` argument is deprecated, use `learning_rate` instead.\n",
            "  super().__init__(name, **kwargs)\n"
          ]
        },
        {
          "output_type": "stream",
          "name": "stdout",
          "text": [
            "Epoch 1/30\n",
            "404/404 [==============================] - 34s 60ms/step - loss: 1.2251 - accuracy: 0.6580\n",
            "Epoch 2/30\n",
            "404/404 [==============================] - 25s 61ms/step - loss: 0.6225 - accuracy: 0.7158\n",
            "Epoch 3/30\n",
            "404/404 [==============================] - 26s 64ms/step - loss: 0.5823 - accuracy: 0.7331\n",
            "Epoch 4/30\n",
            "404/404 [==============================] - 26s 64ms/step - loss: 0.5727 - accuracy: 0.7442\n",
            "Epoch 5/30\n",
            "404/404 [==============================] - 25s 62ms/step - loss: 0.5554 - accuracy: 0.7496\n",
            "Epoch 6/30\n",
            "404/404 [==============================] - 25s 63ms/step - loss: 0.5502 - accuracy: 0.7512\n",
            "Epoch 7/30\n",
            "404/404 [==============================] - 26s 64ms/step - loss: 0.5419 - accuracy: 0.7533\n",
            "Epoch 8/30\n",
            "404/404 [==============================] - 26s 63ms/step - loss: 0.5384 - accuracy: 0.7572\n",
            "Epoch 9/30\n",
            "404/404 [==============================] - 25s 63ms/step - loss: 0.5334 - accuracy: 0.7609\n",
            "Epoch 10/30\n",
            "404/404 [==============================] - 26s 63ms/step - loss: 0.5304 - accuracy: 0.7595\n",
            "Epoch 11/30\n",
            "404/404 [==============================] - 26s 63ms/step - loss: 0.5225 - accuracy: 0.7583\n",
            "Epoch 12/30\n",
            "404/404 [==============================] - 26s 64ms/step - loss: 0.5107 - accuracy: 0.7613\n",
            "Epoch 13/30\n",
            "404/404 [==============================] - 26s 64ms/step - loss: 0.5075 - accuracy: 0.7665\n",
            "Epoch 14/30\n",
            "404/404 [==============================] - 26s 64ms/step - loss: 0.5078 - accuracy: 0.7620\n",
            "Epoch 15/30\n",
            "404/404 [==============================] - 26s 64ms/step - loss: 0.4953 - accuracy: 0.7706\n",
            "Epoch 16/30\n",
            "404/404 [==============================] - 26s 64ms/step - loss: 0.4818 - accuracy: 0.7760\n",
            "Epoch 17/30\n",
            "404/404 [==============================] - 26s 64ms/step - loss: 0.4852 - accuracy: 0.7737\n",
            "Epoch 18/30\n",
            "404/404 [==============================] - 26s 64ms/step - loss: 0.4730 - accuracy: 0.7741\n",
            "Epoch 19/30\n",
            "404/404 [==============================] - 26s 64ms/step - loss: 0.4716 - accuracy: 0.7727\n",
            "Epoch 20/30\n",
            "404/404 [==============================] - 26s 64ms/step - loss: 0.4650 - accuracy: 0.7787\n",
            "Epoch 21/30\n",
            "404/404 [==============================] - 26s 64ms/step - loss: 0.4496 - accuracy: 0.7826\n",
            "Epoch 22/30\n",
            "404/404 [==============================] - 26s 64ms/step - loss: 0.4653 - accuracy: 0.7770\n",
            "Epoch 23/30\n",
            "404/404 [==============================] - 26s 64ms/step - loss: 0.4683 - accuracy: 0.7822\n",
            "Epoch 24/30\n",
            "404/404 [==============================] - 26s 63ms/step - loss: 0.4681 - accuracy: 0.7828\n",
            "Epoch 25/30\n",
            "404/404 [==============================] - 26s 63ms/step - loss: 0.4716 - accuracy: 0.7822\n",
            "Epoch 26/30\n",
            "404/404 [==============================] - 25s 63ms/step - loss: 0.4714 - accuracy: 0.7816\n",
            "Epoch 27/30\n",
            "404/404 [==============================] - 25s 63ms/step - loss: 0.4527 - accuracy: 0.7865\n",
            "Epoch 28/30\n",
            "404/404 [==============================] - 26s 63ms/step - loss: 0.4593 - accuracy: 0.7820\n",
            "Epoch 29/30\n",
            "404/404 [==============================] - 26s 63ms/step - loss: 0.4408 - accuracy: 0.7900\n",
            "Epoch 30/30\n",
            "404/404 [==============================] - 26s 63ms/step - loss: 0.4486 - accuracy: 0.7809\n"
          ]
        }
      ]
    },
    {
      "cell_type": "code",
      "source": [
        "X_test = []\n",
        "\n",
        "for i in range(len(test_data)):\n",
        "  for j in range(len(test_data[0])):\n",
        "    X_test.append(test_data[i][j])\n",
        "\n",
        "len(X_test)\n",
        "X_test = np.array(X_test)\n",
        "\n",
        "predictions = transfer_model.predict(X_test)"
      ],
      "metadata": {
        "colab": {
          "base_uri": "https://localhost:8080/"
        },
        "id": "k2aqz2wOtDW3",
        "outputId": "f7d3829e-0566-4119-87ce-0ca319ecf119"
      },
      "execution_count": null,
      "outputs": [
        {
          "output_type": "stream",
          "name": "stdout",
          "text": [
            "76/76 [==============================] - 19s 190ms/step\n"
          ]
        }
      ]
    },
    {
      "cell_type": "code",
      "source": [
        "print(predictions)"
      ],
      "metadata": {
        "colab": {
          "base_uri": "https://localhost:8080/"
        },
        "id": "eW8rk4OZtj9k",
        "outputId": "106c573b-7f42-4341-e338-8735b0dfd2c8"
      },
      "execution_count": null,
      "outputs": [
        {
          "output_type": "stream",
          "name": "stdout",
          "text": [
            "[[0.30905515]\n",
            " [0.29025945]\n",
            " [0.34192652]\n",
            " ...\n",
            " [0.75726324]\n",
            " [0.66712   ]\n",
            " [0.53793895]]\n"
          ]
        }
      ]
    },
    {
      "cell_type": "code",
      "source": [
        "y_pred = []\n",
        "\n",
        "i = 0\n",
        "z = 0\n",
        "\n",
        "while i < len(predictions):\n",
        "    mean = 0\n",
        "    while z < 12:\n",
        "        mean += predictions[i]\n",
        "        z += 1\n",
        "        i += 1\n",
        "    z = 0\n",
        "    mean = mean/12 \n",
        "    if mean < 0.5:\n",
        "        y_pred.append(0)\n",
        "    else:\n",
        "        y_pred.append(1)\n",
        "\n",
        "print(y_pred)"
      ],
      "metadata": {
        "colab": {
          "base_uri": "https://localhost:8080/"
        },
        "id": "njVfVHxCukSm",
        "outputId": "951da985-27db-4e90-ae30-078b9651902c"
      },
      "execution_count": null,
      "outputs": [
        {
          "output_type": "stream",
          "name": "stdout",
          "text": [
            "[0, 0, 0, 0, 0, 0, 0, 0, 0, 0, 0, 0, 0, 0, 0, 0, 0, 0, 0, 0, 1, 0, 0, 0, 0, 0, 0, 0, 0, 0, 0, 0, 0, 0, 0, 0, 0, 0, 1, 0, 0, 0, 0, 0, 0, 0, 0, 0, 0, 0, 0, 0, 1, 0, 1, 0, 0, 0, 0, 0, 0, 0, 0, 0, 0, 0, 0, 0, 0, 0, 0, 0, 0, 0, 0, 0, 0, 0, 0, 0, 0, 1, 0, 0, 0, 0, 0, 0, 0, 0, 0, 0, 0, 0, 0, 0, 0, 0, 0, 0, 0, 0, 0, 0, 1, 0, 0, 0, 0, 0, 0, 1, 0, 0, 0, 0, 0, 0, 0, 0, 0, 0, 0, 0, 0, 0, 0, 0, 0, 0, 0, 0, 0, 0, 0, 0, 0, 0, 0, 0, 0, 0, 0, 0, 0, 0, 1, 1, 0, 0, 0, 0, 0, 0, 0, 0, 0, 0, 0, 0, 0, 0, 0, 0, 0, 0, 0, 0, 0, 1, 0, 0, 0, 0, 0, 0, 0, 0, 0, 0, 0, 0, 0, 0, 0, 0, 0, 0, 0, 0, 0, 0, 0, 0, 0, 0, 0, 0, 0, 0, 0, 0]\n"
          ]
        }
      ]
    },
    {
      "cell_type": "code",
      "source": [
        "print(len(y_pred))"
      ],
      "metadata": {
        "colab": {
          "base_uri": "https://localhost:8080/"
        },
        "id": "dKPM3xsBxCaO",
        "outputId": "8a31bdfd-6c1b-4212-8cf3-f0bc297218b7"
      },
      "execution_count": null,
      "outputs": [
        {
          "output_type": "stream",
          "name": "stdout",
          "text": [
            "202\n"
          ]
        }
      ]
    },
    {
      "cell_type": "code",
      "source": [
        "print(type(y_test))"
      ],
      "metadata": {
        "colab": {
          "base_uri": "https://localhost:8080/"
        },
        "id": "UoYOrzqSx4Di",
        "outputId": "b2bd2c82-eeab-47b5-aa61-a271a8d95e70"
      },
      "execution_count": null,
      "outputs": [
        {
          "output_type": "stream",
          "name": "stdout",
          "text": [
            "<class 'numpy.ndarray'>\n"
          ]
        }
      ]
    },
    {
      "cell_type": "code",
      "source": [
        "print(type(y_pred))"
      ],
      "metadata": {
        "colab": {
          "base_uri": "https://localhost:8080/"
        },
        "id": "aonS2zt0x7dI",
        "outputId": "32041738-ec14-4dad-e3f7-ab92f7f9b23d"
      },
      "execution_count": null,
      "outputs": [
        {
          "output_type": "stream",
          "name": "stdout",
          "text": [
            "<class 'list'>\n"
          ]
        }
      ]
    },
    {
      "cell_type": "code",
      "source": [
        "y_pred = np.array(y_pred)"
      ],
      "metadata": {
        "id": "Uukv5JxfyIOK"
      },
      "execution_count": null,
      "outputs": []
    },
    {
      "cell_type": "code",
      "source": [
        "y_test = np.argmax(y_test, axis=0)\n",
        "y_pred = np.argmax(y_pred, axis=0)"
      ],
      "metadata": {
        "id": "WdUMHKhDyjH_"
      },
      "execution_count": null,
      "outputs": []
    },
    {
      "cell_type": "code",
      "source": [
        "print(y_test)"
      ],
      "metadata": {
        "colab": {
          "base_uri": "https://localhost:8080/"
        },
        "id": "PbXq-mWnz1t8",
        "outputId": "a3c2c06e-3fce-46cd-81ce-31265b4ab198"
      },
      "execution_count": null,
      "outputs": [
        {
          "output_type": "stream",
          "name": "stdout",
          "text": [
            "[0 0 0 0 0 0 0 0 0 0 0 0 0 0 0 0 0 0 0 0 1 0 0 0 0 0 0 0 0 0 0 1 0 0 0 0 0\n",
            " 0 1 0 0 0 1 0 0 0 0 1 0 1 0 0 0 0 1 0 0 0 0 0 0 0 0 0 0 0 0 0 0 0 0 0 0 1\n",
            " 0 0 0 0 0 1 0 0 0 0 0 0 0 0 0 0 0 0 0 1 0 0 0 0 0 0 0 0 0 0 1 0 0 0 0 1 0\n",
            " 0 0 1 0 1 1 0 0 0 1 0 0 0 0 0 0 0 0 0 0 0 1 0 0 0 0 0 0 0 0 0 0 0 0 0 0 0\n",
            " 0 0 0 0 0 0 0 1 1 1 1 1 0 0 0 0 0 0 1 1 1 1 1 1 1 1 1 1 1 1 1 0 0 0 1 1 1\n",
            " 0 1 0 0 0 0 0 0 0 0 0 0 0 0 0 0 0]\n"
          ]
        }
      ]
    },
    {
      "cell_type": "code",
      "source": [
        "test = []\n",
        "for i in range(len(y_test)):\n",
        "    test.append(y_test[i])\n",
        "\n",
        "y_test = np.array(test)"
      ],
      "metadata": {
        "id": "NnmXj4GnzVKQ"
      },
      "execution_count": null,
      "outputs": []
    }
  ],
  "metadata": {
    "accelerator": "GPU",
    "colab": {
      "provenance": []
    },
    "gpuClass": "standard",
    "kernelspec": {
      "display_name": "Python 3",
      "name": "python3"
    },
    "language_info": {
      "name": "python"
    }
  },
  "nbformat": 4,
  "nbformat_minor": 0
}